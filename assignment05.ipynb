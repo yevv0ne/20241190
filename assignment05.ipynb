{
 "cells": [
  {
   "cell_type": "markdown",
   "id": "5abbfd9a-50c6-4dd6-92bf-f2343ae24aca",
   "metadata": {},
   "source": [
    "# 3.느린생일 순 10명"
   ]
  },
  {
   "cell_type": "code",
   "execution_count": 5,
   "id": "3c2c9c7d-9a21-4f7c-8fa0-5c5bb9cc3635",
   "metadata": {},
   "outputs": [
    {
     "ename": "FileNotFoundError",
     "evalue": "[Errno 2] No such file or directory: 'birthday.csv'",
     "output_type": "error",
     "traceback": [
      "\u001b[1;31m---------------------------------------------------------------------------\u001b[0m",
      "\u001b[1;31mFileNotFoundError\u001b[0m                         Traceback (most recent call last)",
      "Cell \u001b[1;32mIn[5], line 6\u001b[0m\n\u001b[0;32m      2\u001b[0m \u001b[38;5;28;01mimport\u001b[39;00m \u001b[38;5;21;01mheapq\u001b[39;00m\n\u001b[0;32m      4\u001b[0m heap \u001b[38;5;241m=\u001b[39m []\n\u001b[1;32m----> 6\u001b[0m \u001b[38;5;28;01mwith\u001b[39;00m \u001b[38;5;28mopen\u001b[39m(\u001b[38;5;124m'\u001b[39m\u001b[38;5;124mbirthday.csv\u001b[39m\u001b[38;5;124m'\u001b[39m, encoding\u001b[38;5;241m=\u001b[39m\u001b[38;5;124m'\u001b[39m\u001b[38;5;124mutf-8\u001b[39m\u001b[38;5;124m'\u001b[39m) \u001b[38;5;28;01mas\u001b[39;00m f:\n\u001b[0;32m      7\u001b[0m     reader \u001b[38;5;241m=\u001b[39m csv\u001b[38;5;241m.\u001b[39mDictReader(f)\n\u001b[0;32m      8\u001b[0m     \u001b[38;5;28;01mfor\u001b[39;00m row \u001b[38;5;129;01min\u001b[39;00m reader:\n",
      "File \u001b[1;32m~\\anaconda\\Lib\\site-packages\\IPython\\core\\interactiveshell.py:324\u001b[0m, in \u001b[0;36m_modified_open\u001b[1;34m(file, *args, **kwargs)\u001b[0m\n\u001b[0;32m    317\u001b[0m \u001b[38;5;28;01mif\u001b[39;00m file \u001b[38;5;129;01min\u001b[39;00m {\u001b[38;5;241m0\u001b[39m, \u001b[38;5;241m1\u001b[39m, \u001b[38;5;241m2\u001b[39m}:\n\u001b[0;32m    318\u001b[0m     \u001b[38;5;28;01mraise\u001b[39;00m \u001b[38;5;167;01mValueError\u001b[39;00m(\n\u001b[0;32m    319\u001b[0m         \u001b[38;5;124mf\u001b[39m\u001b[38;5;124m\"\u001b[39m\u001b[38;5;124mIPython won\u001b[39m\u001b[38;5;124m'\u001b[39m\u001b[38;5;124mt let you open fd=\u001b[39m\u001b[38;5;132;01m{\u001b[39;00mfile\u001b[38;5;132;01m}\u001b[39;00m\u001b[38;5;124m by default \u001b[39m\u001b[38;5;124m\"\u001b[39m\n\u001b[0;32m    320\u001b[0m         \u001b[38;5;124m\"\u001b[39m\u001b[38;5;124mas it is likely to crash IPython. If you know what you are doing, \u001b[39m\u001b[38;5;124m\"\u001b[39m\n\u001b[0;32m    321\u001b[0m         \u001b[38;5;124m\"\u001b[39m\u001b[38;5;124myou can use builtins\u001b[39m\u001b[38;5;124m'\u001b[39m\u001b[38;5;124m open.\u001b[39m\u001b[38;5;124m\"\u001b[39m\n\u001b[0;32m    322\u001b[0m     )\n\u001b[1;32m--> 324\u001b[0m \u001b[38;5;28;01mreturn\u001b[39;00m io_open(file, \u001b[38;5;241m*\u001b[39margs, \u001b[38;5;241m*\u001b[39m\u001b[38;5;241m*\u001b[39mkwargs)\n",
      "\u001b[1;31mFileNotFoundError\u001b[0m: [Errno 2] No such file or directory: 'birthday.csv'"
     ]
    }
   ],
   "source": [
    "import csv\n",
    "import heapq\n",
    "\n",
    "heap = []\n",
    "\n",
    "with open('birthday.csv', encoding='utf-8') as f:\n",
    "    reader = csv.DictReader(f)\n",
    "    for row in reader:\n",
    "        birthday = row['생년월일8자리(예.20040101)'].strip()\n",
    "        if birthday:\n",
    "            heapq.heappush(heap, (-int(birthday), row['이름'], row['학번'], birthday))\n",
    "\n",
    "for _ in range(10):\n",
    "    if heap:\n",
    "        neg_birthday, name, student_id, birthday = heapq.heappop(heap)\n",
    "        print(f\"{student_id}, {name}, {birthday}\")\n"
   ]
  },
  {
   "cell_type": "markdown",
   "id": "81dd1dfa-9083-4c18-b404-afceb1a402a1",
   "metadata": {},
   "source": [
    "# 8장 우선순위 큐 힙\n",
    "* (1)더 작은 값을 가질 수 있다 \n",
    "* (2) 항상 작은 값은 아니다 \n",
    "* (3) (n-2)//2부터 0까지의 인덱스를 갖는 요소를 대상으로 스며내리기를 실행함. 즉 루트의 자격으로 스며내리기를 하지 않고 넘어가는 원소의 수는 (n-1)-((n-2)//2)이다 \n",
    "* (4) 최악의 경우 Θ(logn)의 시간이 소요되고 최선의 경우 Θ(1)의 시간이 소요된다 \n",
    "* (5) 가장 아래 리프노드이기에 아무런 영향을 주지 않아 간단할 것으로 보인다 \n",
    "* (6) 초반에는 대상오드의 깊이가 얕기에 비교와 교체 작업이 적지만,인덱스가 증가할 수록 깊이가 깊어져 Θ(nlogn)만큼의 시간이 소요된다.\n",
    "* (7)임의의 원소의 값이 증가 했을 때 그 원소에 해당하는 노드를 제거한 후, 증가한 원소의 값을 갖는 노드를 힙에 추가한다."
   ]
  },
  {
   "cell_type": "markdown",
   "id": "1821ef66-096c-4bf1-8eda-96effdd53f6d",
   "metadata": {},
   "source": [
    "# leetcode 703"
   ]
  },
  {
   "cell_type": "code",
   "execution_count": 6,
   "id": "3f4e144e-294c-427a-add9-8126d7c2cc1a",
   "metadata": {},
   "outputs": [],
   "source": [
    "import heapq\n",
    "\n",
    "class KthLargest:\n",
    "    def __init__(self, k: int, nums: list[int]):\n",
    "        self.k = k\n",
    "        self.min_heap = nums\n",
    "        heapq.heapify(self.min_heap)\n",
    "        while len(self.min_heap) > k:\n",
    "            heapq.heappop(self.min_heap)\n",
    "\n",
    "    def add(self, val: int) -> int:\n",
    "        heapq.heappush(self.min_heap, val)\n",
    "        if len(self.min_heap) > self.k:\n",
    "            heapq.heappop(self.min_heap)\n",
    "        return self.min_heap[0]\n"
   ]
  },
  {
   "cell_type": "code",
   "execution_count": null,
   "id": "c90d55bc-a2b6-437a-ae00-b863891879d4",
   "metadata": {},
   "outputs": [],
   "source": []
  }
 ],
 "metadata": {
  "kernelspec": {
   "display_name": "Python 3 (ipykernel)",
   "language": "python",
   "name": "python3"
  },
  "language_info": {
   "codemirror_mode": {
    "name": "ipython",
    "version": 3
   },
   "file_extension": ".py",
   "mimetype": "text/x-python",
   "name": "python",
   "nbconvert_exporter": "python",
   "pygments_lexer": "ipython3",
   "version": "3.12.7"
  }
 },
 "nbformat": 4,
 "nbformat_minor": 5
}

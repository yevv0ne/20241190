{
 "cells": [
  {
   "cell_type": "markdown",
   "id": "5abbfd9a-50c6-4dd6-92bf-f2343ae24aca",
   "metadata": {},
   "source": [
    "# 3.느린생일 순 10명"
   ]
  },
  {
   "cell_type": "code",
   "execution_count": 9,
   "id": "0d19a997-eda3-49ff-bf24-6f50bef6c410",
   "metadata": {},
   "outputs": [
    {
     "name": "stdout",
     "output_type": "stream",
     "text": [
      "******82, 홍서연, 20241282\n",
      "******22, 신수민, 20051230\n",
      "******42, 이서영, 20051225\n",
      "******69, 강민주, 20051214\n",
      "******78, 김민경, 20051202\n",
      "******41, 이서영, 20051112\n",
      "******17, 배시은, 20051102\n",
      "******87, 김여원, 20051031\n",
      "******44, 이서진, 20051028\n",
      "******64, 서홍빈, 20051024\n"
     ]
    }
   ],
   "source": [
    "import csv\n",
    "import heapq\n",
    "\n",
    "heap = []\n",
    "\n",
    "with open('C:/Users/yewon/OneDrive/birthday.csv', encoding='utf-8') as f:\n",
    "    reader = csv.DictReader(f)\n",
    "    for row in reader:\n",
    "        birthday = str(row['생년월일8자리(예.20040101)']).strip()\n",
    "        if birthday and birthday != 'nan':\n",
    "            # float로 변환 후 int로 처리 (엑셀에서 저장 시 소수점 생기는 경우 방지)\n",
    "            heapq.heappush(heap, (-int(float(birthday)), row['이름'], row['학번'], birthday))\n",
    "\n",
    "for _ in range(10):\n",
    "    if heap:\n",
    "        neg_birthday, name, student_id, birthday = heapq.heappop(heap)\n",
    "        print(f\"{student_id}, {name}, {birthday}\")\n",
    "\n"
   ]
  },
  {
   "cell_type": "markdown",
   "id": "24cd5ae0-5493-4d52-9be4-d528c643737f",
   "metadata": {},
   "source": [
    "# 4.조원 이름.생년월일"
   ]
  },
  {
   "cell_type": "code",
   "execution_count": 10,
   "id": "8e1210ae-0e0d-46db-984a-6bed60d75b0f",
   "metadata": {},
   "outputs": [
    {
     "name": "stdout",
     "output_type": "stream",
     "text": [
      "강다원, 20031015\n",
      "강주영, 20041228\n",
      "김소민, 20050203\n",
      "김예원, 20040412\n",
      "윤소정, 20040413\n",
      "이서연, 20041007\n",
      "이채린, 20030516\n",
      "정혜민, 20030917\n",
      "홍서연, 20040611\n",
      "홍서연, 20241282\n"
     ]
    }
   ],
   "source": [
    "class Node:\n",
    "    def __init__(self, data):\n",
    "        self.data = data\n",
    "        self.prev = None\n",
    "        self.next = None\n",
    "\n",
    "class CircularDoublyLinkedList:\n",
    "    def __init__(self):\n",
    "        self.head = None\n",
    "    \n",
    "    def append(self, data):\n",
    "        new_node = Node(data)\n",
    "        if not self.head:\n",
    "            self.head = new_node\n",
    "            new_node.next = new_node\n",
    "            new_node.prev = new_node\n",
    "        else:\n",
    "            tail = self.head.prev if self.head.prev else self.head\n",
    "            tail.next = new_node\n",
    "            new_node.prev = tail\n",
    "            new_node.next = self.head\n",
    "            self.head.prev = new_node\n",
    "    \n",
    "    def find_by_names(self, names):\n",
    "        result = []\n",
    "        if not self.head:\n",
    "            return result\n",
    "        current = self.head\n",
    "        while True:\n",
    "            if current.data.get('name') in names:\n",
    "                result.append(current.data)\n",
    "            current = current.next\n",
    "            if current == self.head:\n",
    "                break\n",
    "        return result\n",
    "\n",
    "import csv\n",
    "\n",
    "team_members = [\"강주영\", \"김예원\", \"전예빈\", \"윤소정\", \"홍서연\", \"이채린\", \"김소민\", \"강다원\", \"이서연\", \"정혜민\"]\n",
    "\n",
    "birthday_list = CircularDoublyLinkedList()\n",
    "\n",
    "with open('C:/Users/yewon/OneDrive/birthday.csv', encoding='utf-8') as f:\n",
    "    reader = csv.DictReader(f)\n",
    "    for row in reader:\n",
    "        name = str(row['이름']).strip()\n",
    "        birthday = str(row['생년월일8자리(예.20040101)']).strip()\n",
    "        if birthday and birthday != 'nan':\n",
    "            birthday_list.append({'name': name, 'birthday': birthday})\n",
    "\n",
    "team_data = birthday_list.find_by_names(team_members)\n",
    "for data in team_data:\n",
    "    print(f\"{data['name']}, {data['birthday']}\")\n"
   ]
  },
  {
   "cell_type": "markdown",
   "id": "81dd1dfa-9083-4c18-b404-afceb1a402a1",
   "metadata": {},
   "source": [
    "# 8장 우선순위 큐 힙\n",
    "* (1)더 작은 값을 가질 수 있다 \n",
    "* (2) 항상 작은 값은 아니다 \n",
    "* (3) (n-2)//2부터 0까지의 인덱스를 갖는 요소를 대상으로 스며내리기를 실행함. 즉 루트의 자격으로 스며내리기를 하지 않고 넘어가는 원소의 수는 (n-1)-((n-2)//2)이다 \n",
    "* (4) 최악의 경우 Θ(logn)의 시간이 소요되고 최선의 경우 Θ(1)의 시간이 소요된다 \n",
    "* (5) 가장 아래 리프노드이기에 아무런 영향을 주지 않아 간단할 것으로 보인다 \n",
    "* (6) 초반에는 대상오드의 깊이가 얕기에 비교와 교체 작업이 적지만,인덱스가 증가할 수록 깊이가 깊어져 Θ(nlogn)만큼의 시간이 소요된다.\n",
    "* (7)임의의 원소의 값이 증가 했을 때 그 원소에 해당하는 노드를 제거한 후, 증가한 원소의 값을 갖는 노드를 힙에 추가한다."
   ]
  },
  {
   "cell_type": "markdown",
   "id": "1821ef66-096c-4bf1-8eda-96effdd53f6d",
   "metadata": {},
   "source": [
    "# leetcode 703"
   ]
  },
  {
   "cell_type": "code",
   "execution_count": 6,
   "id": "3f4e144e-294c-427a-add9-8126d7c2cc1a",
   "metadata": {},
   "outputs": [],
   "source": [
    "import heapq\n",
    "\n",
    "class KthLargest:\n",
    "    def __init__(self, k: int, nums: list[int]):\n",
    "        self.k = k\n",
    "        self.min_heap = nums\n",
    "        heapq.heapify(self.min_heap)\n",
    "        while len(self.min_heap) > k:\n",
    "            heapq.heappop(self.min_heap)\n",
    "\n",
    "    def add(self, val: int) -> int:\n",
    "        heapq.heappush(self.min_heap, val)\n",
    "        if len(self.min_heap) > self.k:\n",
    "            heapq.heappop(self.min_heap)\n",
    "        return self.min_heap[0]\n"
   ]
  },
  {
   "cell_type": "code",
   "execution_count": null,
   "id": "c90d55bc-a2b6-437a-ae00-b863891879d4",
   "metadata": {},
   "outputs": [],
   "source": []
  }
 ],
 "metadata": {
  "kernelspec": {
   "display_name": "Python 3 (ipykernel)",
   "language": "python",
   "name": "python3"
  },
  "language_info": {
   "codemirror_mode": {
    "name": "ipython",
    "version": 3
   },
   "file_extension": ".py",
   "mimetype": "text/x-python",
   "name": "python",
   "nbconvert_exporter": "python",
   "pygments_lexer": "ipython3",
   "version": "3.12.7"
  }
 },
 "nbformat": 4,
 "nbformat_minor": 5
}
